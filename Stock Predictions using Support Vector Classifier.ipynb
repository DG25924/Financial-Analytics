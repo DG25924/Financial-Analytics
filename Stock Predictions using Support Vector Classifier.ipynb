{
 "cells": [
  {
   "cell_type": "code",
   "execution_count": 9,
   "metadata": {},
   "outputs": [],
   "source": [
    "'''\n",
    "## Importing ncessary libraries and dependencies\n",
    "'''\n",
    "\n",
    "import pandas as pd\n",
    "import numpy as np\n",
    "import scipy as scp\n",
    "import sklearn\n",
    "import statsmodels.api as sm\n",
    "import yfinance as yf \n",
    "\n",
    "from sklearn.linear_model import LogisticRegression\n",
    "from sklearn.model_selection import train_test_split\n",
    "from sklearn.metrics import classification_report, confusion_matrix\n",
    "from sklearn.svm import SVC"
   ]
  },
  {
   "cell_type": "code",
   "execution_count": 4,
   "metadata": {},
   "outputs": [
    {
     "name": "stderr",
     "output_type": "stream",
     "text": [
      "[*********************100%***********************]  1 of 1 completed"
     ]
    },
    {
     "name": "stdout",
     "output_type": "stream",
     "text": [
      "                    Open          High  ...     Adj Close  Volume\n",
      "Date                                    ...                      \n",
      "2023-01-02  88600.000000  88745.351562  ...  87772.812500    4248\n",
      "2023-01-03  88397.898438  89121.000000  ...  88595.156250    4793\n",
      "2023-01-04  88892.000000  89073.546875  ...  87733.984375    7515\n",
      "2023-01-05  88500.000000  91900.000000  ...  90987.210938   22626\n",
      "2023-01-06  91580.000000  93400.000000  ...  92847.007812   28710\n",
      "\n",
      "[5 rows x 6 columns]\n"
     ]
    },
    {
     "name": "stderr",
     "output_type": "stream",
     "text": [
      "\n"
     ]
    }
   ],
   "source": [
    "'''\n",
    "## Fetching the historical Stock Data for MRF from yahoo finance\n",
    "'''\n",
    "\n",
    "ticker = \"MRF.NS\" ## MRF ticker symbol specification\n",
    "\n",
    "data = yf.download(ticker, start= '2023-01-02', end = '2024-01-05') ## Fetching the historical data\n",
    "\n",
    "## Display of dataset entities \n",
    "\n",
    "print(data.head())"
   ]
  },
  {
   "cell_type": "code",
   "execution_count": 5,
   "metadata": {},
   "outputs": [
    {
     "name": "stdout",
     "output_type": "stream",
     "text": [
      "<class 'pandas.core.frame.DataFrame'>\n",
      "DatetimeIndex: 249 entries, 2023-01-02 to 2024-01-04\n",
      "Data columns (total 6 columns):\n",
      " #   Column     Non-Null Count  Dtype  \n",
      "---  ------     --------------  -----  \n",
      " 0   Open       249 non-null    float64\n",
      " 1   High       249 non-null    float64\n",
      " 2   Low        249 non-null    float64\n",
      " 3   Close      249 non-null    float64\n",
      " 4   Adj Close  249 non-null    float64\n",
      " 5   Volume     249 non-null    int64  \n",
      "dtypes: float64(5), int64(1)\n",
      "memory usage: 13.6 KB\n"
     ]
    }
   ],
   "source": [
    "data.info()"
   ]
  },
  {
   "cell_type": "code",
   "execution_count": 7,
   "metadata": {},
   "outputs": [],
   "source": [
    "## Defining the respective independent and dependent variables\n",
    "\n",
    "## X : Dependent Variables\n",
    "\n",
    "X = data[['Open', 'High', 'Low', 'Close']]\n",
    "\n",
    "## Y : Independent Variable\n",
    "\n",
    "Y = np.where(data['Adj Close'].shift(1) > data['Adj Close'], 0, 1)\n",
    "\n",
    "\n",
    "\n"
   ]
  },
  {
   "cell_type": "code",
   "execution_count": 8,
   "metadata": {},
   "outputs": [
    {
     "name": "stdout",
     "output_type": "stream",
     "text": [
      "(199, 4)\n",
      "(199,)\n",
      "(50, 4)\n",
      "(50,)\n"
     ]
    }
   ],
   "source": [
    "\n",
    "'''\n",
    "## Splitting the data into training and testing sets\n",
    "'''\n",
    "\n",
    "X_train, X_test, Y_train, Y_test = train_test_split(X, Y, test_size= 0.2, random_state= 5)\n",
    "\n",
    "print(X_train.shape)\n",
    "\n",
    "print(Y_train.shape)\n",
    "\n",
    "print(X_test.shape)\n",
    "\n",
    "print(Y_test.shape)\n",
    "\n"
   ]
  },
  {
   "cell_type": "code",
   "execution_count": 10,
   "metadata": {},
   "outputs": [
    {
     "name": "stdout",
     "output_type": "stream",
     "text": [
      "0.92\n"
     ]
    }
   ],
   "source": [
    "'''\n",
    "Creation of a Support Vector Classifier Object and fitting the model\n",
    "'''\n",
    "\n",
    "from sklearn.metrics import accuracy_score\n",
    "\n",
    "clf = SVC(kernel= 'linear')\n",
    "\n",
    "clf.fit(X_train, Y_train)\n",
    "\n",
    "y_pred = clf.predict(X_test)\n",
    "\n",
    "print(accuracy_score(Y_test, y_pred))\n",
    "\n"
   ]
  },
  {
   "cell_type": "code",
   "execution_count": 11,
   "metadata": {},
   "outputs": [
    {
     "name": "stdout",
     "output_type": "stream",
     "text": [
      "              precision    recall  f1-score   support\n",
      "\n",
      "           0       1.00      0.85      0.92        26\n",
      "           1       0.86      1.00      0.92        24\n",
      "\n",
      "    accuracy                           0.92        50\n",
      "   macro avg       0.93      0.92      0.92        50\n",
      "weighted avg       0.93      0.92      0.92        50\n",
      "\n"
     ]
    }
   ],
   "source": [
    "'''\n",
    "## Generation of Classification Reports and Confusion Matrix\n",
    "'''\n",
    "\n",
    "print(classification_report(Y_test, y_pred))\n",
    "\n"
   ]
  },
  {
   "cell_type": "code",
   "execution_count": 12,
   "metadata": {},
   "outputs": [
    {
     "name": "stdout",
     "output_type": "stream",
     "text": [
      "[[22  4]\n",
      " [ 0 24]]\n"
     ]
    }
   ],
   "source": [
    "'''\n",
    "## Confusion Matrix\n",
    "'''\n",
    "\n",
    "print(confusion_matrix(Y_test, y_pred))"
   ]
  }
 ],
 "metadata": {
  "kernelspec": {
   "display_name": "base",
   "language": "python",
   "name": "python3"
  },
  "language_info": {
   "codemirror_mode": {
    "name": "ipython",
    "version": 3
   },
   "file_extension": ".py",
   "mimetype": "text/x-python",
   "name": "python",
   "nbconvert_exporter": "python",
   "pygments_lexer": "ipython3",
   "version": "3.12.3"
  }
 },
 "nbformat": 4,
 "nbformat_minor": 2
}
