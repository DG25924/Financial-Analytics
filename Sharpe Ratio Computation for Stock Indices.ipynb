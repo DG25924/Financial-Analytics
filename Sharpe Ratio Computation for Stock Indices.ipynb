{
 "cells": [
  {
   "cell_type": "code",
   "execution_count": 1,
   "metadata": {},
   "outputs": [],
   "source": [
    "'''\n",
    "## Importing necessary set of libraries and packages\n",
    "'''\n",
    "\n",
    "import yfinance as yf\n",
    "import pandas as pd\n",
    "import matplotlib.pyplot as plt\n",
    "import numpy as np\n",
    "from datetime import datetime\n",
    "import pandas_datareader as pdr\n",
    "\n"
   ]
  },
  {
   "cell_type": "code",
   "execution_count": 3,
   "metadata": {},
   "outputs": [
    {
     "name": "stderr",
     "output_type": "stream",
     "text": [
      "[*********************100%***********************]  2 of 2 completed"
     ]
    },
    {
     "name": "stdout",
     "output_type": "stream",
     "text": [
      "Price                       Adj Close                  Close             \\\n",
      "Ticker                           AAPL       GOOG        AAPL       GOOG   \n",
      "Date                                                                      \n",
      "2023-01-03 00:00:00+00:00  123.768463  89.480247  125.070000  89.699997   \n",
      "2023-01-04 00:00:00+00:00  125.045036  88.492683  126.360001  88.709999   \n",
      "2023-01-05 00:00:00+00:00  123.718987  86.557426  125.019997  86.769997   \n",
      "2023-01-06 00:00:00+00:00  128.271103  87.944031  129.619995  88.160004   \n",
      "2023-01-09 00:00:00+00:00  128.795563  88.582458  130.149994  88.800003   \n",
      "\n",
      "Price                            High                    Low             \\\n",
      "Ticker                           AAPL       GOOG        AAPL       GOOG   \n",
      "Date                                                                      \n",
      "2023-01-03 00:00:00+00:00  130.899994  91.550003  124.169998  89.019997   \n",
      "2023-01-04 00:00:00+00:00  128.660004  91.239998  125.080002  87.800003   \n",
      "2023-01-05 00:00:00+00:00  127.769997  88.209999  124.760002  86.559998   \n",
      "2023-01-06 00:00:00+00:00  130.289993  88.470001  124.889999  85.570000   \n",
      "2023-01-09 00:00:00+00:00  133.410004  90.830002  129.889999  88.580002   \n",
      "\n",
      "Price                            Open                Volume            \n",
      "Ticker                           AAPL       GOOG       AAPL      GOOG  \n",
      "Date                                                                   \n",
      "2023-01-03 00:00:00+00:00  130.279999  89.830002  112117500  20738500  \n",
      "2023-01-04 00:00:00+00:00  126.889999  91.010002   89113600  27046500  \n",
      "2023-01-05 00:00:00+00:00  127.129997  88.070000   80962700  23136100  \n",
      "2023-01-06 00:00:00+00:00  126.010002  87.360001   87754700  26612600  \n",
      "2023-01-09 00:00:00+00:00  130.470001  89.195000   70790800  22996700  \n"
     ]
    },
    {
     "name": "stderr",
     "output_type": "stream",
     "text": [
      "\n"
     ]
    }
   ],
   "source": [
    "'''\n",
    "## Fetching the stock- price data for Apple and Google Stocks, from 2023-01-01 till date\n",
    "'''\n",
    "\n",
    "prices_df = yf.download([\"AAPL\", \"GOOG\"], start= \"2023-01-01\")\n",
    "\n",
    "print(prices_df.head())\n",
    "\n"
   ]
  },
  {
   "cell_type": "code",
   "execution_count": 4,
   "metadata": {},
   "outputs": [
    {
     "data": {
      "text/html": [
       "<div>\n",
       "<style scoped>\n",
       "    .dataframe tbody tr th:only-of-type {\n",
       "        vertical-align: middle;\n",
       "    }\n",
       "\n",
       "    .dataframe tbody tr th {\n",
       "        vertical-align: top;\n",
       "    }\n",
       "\n",
       "    .dataframe thead th {\n",
       "        text-align: right;\n",
       "    }\n",
       "</style>\n",
       "<table border=\"1\" class=\"dataframe\">\n",
       "  <thead>\n",
       "    <tr style=\"text-align: right;\">\n",
       "      <th>Ticker</th>\n",
       "      <th>AAPL</th>\n",
       "      <th>GOOG</th>\n",
       "    </tr>\n",
       "  </thead>\n",
       "  <tbody>\n",
       "    <tr>\n",
       "      <th>2023-01-03</th>\n",
       "      <td>123.768463</td>\n",
       "      <td>89.480247</td>\n",
       "    </tr>\n",
       "    <tr>\n",
       "      <th>2023-01-04</th>\n",
       "      <td>125.045036</td>\n",
       "      <td>88.492683</td>\n",
       "    </tr>\n",
       "    <tr>\n",
       "      <th>2023-01-05</th>\n",
       "      <td>123.718987</td>\n",
       "      <td>86.557426</td>\n",
       "    </tr>\n",
       "    <tr>\n",
       "      <th>2023-01-06</th>\n",
       "      <td>128.271103</td>\n",
       "      <td>87.944031</td>\n",
       "    </tr>\n",
       "    <tr>\n",
       "      <th>2023-01-09</th>\n",
       "      <td>128.795563</td>\n",
       "      <td>88.582458</td>\n",
       "    </tr>\n",
       "  </tbody>\n",
       "</table>\n",
       "</div>"
      ],
      "text/plain": [
       "Ticker            AAPL       GOOG\n",
       "2023-01-03  123.768463  89.480247\n",
       "2023-01-04  125.045036  88.492683\n",
       "2023-01-05  123.718987  86.557426\n",
       "2023-01-06  128.271103  87.944031\n",
       "2023-01-09  128.795563  88.582458"
      ]
     },
     "execution_count": 4,
     "metadata": {},
     "output_type": "execute_result"
    }
   ],
   "source": [
    "## Converting datetime index to date format\n",
    "\n",
    "prices_df.index = prices_df.index.date\n",
    "\n",
    "## Keep the adjust close\n",
    "\n",
    "prices_df = prices_df['Adj Close']\n",
    "\n",
    "prices_df.head()"
   ]
  },
  {
   "cell_type": "code",
   "execution_count": 5,
   "metadata": {},
   "outputs": [
    {
     "data": {
      "text/html": [
       "<div>\n",
       "<style scoped>\n",
       "    .dataframe tbody tr th:only-of-type {\n",
       "        vertical-align: middle;\n",
       "    }\n",
       "\n",
       "    .dataframe tbody tr th {\n",
       "        vertical-align: top;\n",
       "    }\n",
       "\n",
       "    .dataframe thead th {\n",
       "        text-align: right;\n",
       "    }\n",
       "</style>\n",
       "<table border=\"1\" class=\"dataframe\">\n",
       "  <thead>\n",
       "    <tr style=\"text-align: right;\">\n",
       "      <th>Ticker</th>\n",
       "      <th>AAPL</th>\n",
       "      <th>GOOG</th>\n",
       "    </tr>\n",
       "  </thead>\n",
       "  <tbody>\n",
       "    <tr>\n",
       "      <th>2023-01-03</th>\n",
       "      <td>NaN</td>\n",
       "      <td>NaN</td>\n",
       "    </tr>\n",
       "    <tr>\n",
       "      <th>2023-01-04</th>\n",
       "      <td>0.010314</td>\n",
       "      <td>-0.011037</td>\n",
       "    </tr>\n",
       "    <tr>\n",
       "      <th>2023-01-05</th>\n",
       "      <td>-0.010605</td>\n",
       "      <td>-0.021869</td>\n",
       "    </tr>\n",
       "    <tr>\n",
       "      <th>2023-01-06</th>\n",
       "      <td>0.036794</td>\n",
       "      <td>0.016019</td>\n",
       "    </tr>\n",
       "    <tr>\n",
       "      <th>2023-01-09</th>\n",
       "      <td>0.004089</td>\n",
       "      <td>0.007259</td>\n",
       "    </tr>\n",
       "  </tbody>\n",
       "</table>\n",
       "</div>"
      ],
      "text/plain": [
       "Ticker          AAPL      GOOG\n",
       "2023-01-03       NaN       NaN\n",
       "2023-01-04  0.010314 -0.011037\n",
       "2023-01-05 -0.010605 -0.021869\n",
       "2023-01-06  0.036794  0.016019\n",
       "2023-01-09  0.004089  0.007259"
      ]
     },
     "execution_count": 5,
     "metadata": {},
     "output_type": "execute_result"
    }
   ],
   "source": [
    "returns_df = prices_df.pct_change()\n",
    "\n",
    "returns_df.head()\n",
    "\n"
   ]
  },
  {
   "cell_type": "code",
   "execution_count": 7,
   "metadata": {},
   "outputs": [
    {
     "data": {
      "text/html": [
       "<div>\n",
       "<style scoped>\n",
       "    .dataframe tbody tr th:only-of-type {\n",
       "        vertical-align: middle;\n",
       "    }\n",
       "\n",
       "    .dataframe tbody tr th {\n",
       "        vertical-align: top;\n",
       "    }\n",
       "\n",
       "    .dataframe thead th {\n",
       "        text-align: right;\n",
       "    }\n",
       "</style>\n",
       "<table border=\"1\" class=\"dataframe\">\n",
       "  <thead>\n",
       "    <tr style=\"text-align: right;\">\n",
       "      <th>Ticker</th>\n",
       "      <th>AAPL</th>\n",
       "      <th>GOOG</th>\n",
       "    </tr>\n",
       "  </thead>\n",
       "  <tbody>\n",
       "    <tr>\n",
       "      <th>2023-01-04</th>\n",
       "      <td>0.010314</td>\n",
       "      <td>-0.011037</td>\n",
       "    </tr>\n",
       "    <tr>\n",
       "      <th>2023-01-05</th>\n",
       "      <td>-0.010605</td>\n",
       "      <td>-0.021869</td>\n",
       "    </tr>\n",
       "    <tr>\n",
       "      <th>2023-01-06</th>\n",
       "      <td>0.036794</td>\n",
       "      <td>0.016019</td>\n",
       "    </tr>\n",
       "    <tr>\n",
       "      <th>2023-01-09</th>\n",
       "      <td>0.004089</td>\n",
       "      <td>0.007259</td>\n",
       "    </tr>\n",
       "    <tr>\n",
       "      <th>2023-01-10</th>\n",
       "      <td>0.004457</td>\n",
       "      <td>0.004955</td>\n",
       "    </tr>\n",
       "  </tbody>\n",
       "</table>\n",
       "</div>"
      ],
      "text/plain": [
       "Ticker          AAPL      GOOG\n",
       "2023-01-04  0.010314 -0.011037\n",
       "2023-01-05 -0.010605 -0.021869\n",
       "2023-01-06  0.036794  0.016019\n",
       "2023-01-09  0.004089  0.007259\n",
       "2023-01-10  0.004457  0.004955"
      ]
     },
     "execution_count": 7,
     "metadata": {},
     "output_type": "execute_result"
    }
   ],
   "source": [
    "returns_df = returns_df.dropna()\n",
    "\n",
    "returns_df.head()"
   ]
  },
  {
   "cell_type": "code",
   "execution_count": 8,
   "metadata": {},
   "outputs": [
    {
     "name": "stdout",
     "output_type": "stream",
     "text": [
      "Mean of the returns:  Ticker\n",
      "AAPL    0.001363\n",
      "GOOG    0.001576\n",
      "dtype: float64\n",
      "Standard Deviation of the returns:  Ticker\n",
      "AAPL    0.013675\n",
      "GOOG    0.018166\n",
      "dtype: float64\n"
     ]
    }
   ],
   "source": [
    "'''\n",
    "## Calculating the Statistical parameters of the returns\n",
    "'''\n",
    "\n",
    "print(\"Mean of the returns: \", returns_df.mean())\n",
    "\n",
    "print(\"Standard Deviation of the returns: \", returns_df.std(axis = 0))\n",
    "\n"
   ]
  },
  {
   "cell_type": "code",
   "execution_count": 9,
   "metadata": {},
   "outputs": [
    {
     "name": "stdout",
     "output_type": "stream",
     "text": [
      "2023-01-04    0.015097\n",
      "2023-01-05    0.007965\n",
      "2023-01-06    0.014690\n",
      "2023-01-09    0.002242\n",
      "2023-01-10    0.000352\n",
      "                ...   \n",
      "2024-11-11    0.016801\n",
      "2024-11-12    0.005246\n",
      "2024-11-13    0.013723\n",
      "2024-11-14    0.022039\n",
      "2024-11-15    0.003819\n",
      "Length: 471, dtype: float64\n"
     ]
    }
   ],
   "source": [
    "print(returns_df.std(axis = 1))\n",
    "\n"
   ]
  },
  {
   "cell_type": "code",
   "execution_count": null,
   "metadata": {},
   "outputs": [
    {
     "name": "stdout",
     "output_type": "stream",
     "text": [
      "Ticker          AAPL      GOOG\n",
      "2023-01-04  0.008951 -0.012613\n",
      "2023-01-05 -0.011967 -0.023446\n",
      "2023-01-06  0.035431  0.014443\n",
      "2023-01-09  0.002726  0.005683\n",
      "2023-01-10  0.003094  0.003378\n",
      "Ticker          AAPL      GOOG\n",
      "2023-01-04  0.000080  0.000159\n",
      "2023-01-05  0.000143  0.000550\n",
      "2023-01-06  0.001255  0.000209\n",
      "2023-01-09  0.000007  0.000032\n",
      "2023-01-10  0.000010  0.000011\n"
     ]
    }
   ],
   "source": [
    "'''\n",
    "## Calculations of volatility\n",
    "'''\n",
    "\n",
    "deviations_df = returns_df - returns_df.mean()\n",
    "\n",
    "print(deviations_df.head())\n",
    "\n",
    "squared_deviations_df = deviations_df **2\n",
    "\n",
    "print(squared_deviations_df.head())\n",
    "\n",
    "\n"
   ]
  },
  {
   "cell_type": "code",
   "execution_count": null,
   "metadata": {},
   "outputs": [
    {
     "name": "stdout",
     "output_type": "stream",
     "text": [
      "Ticker\n",
      "AAPL    0.000187\n",
      "GOOG    0.000329\n",
      "dtype: float64\n",
      "Volatility of the returns: Ticker\n",
      "AAPL    0.013660\n",
      "GOOG    0.018147\n",
      "dtype: float64\n"
     ]
    }
   ],
   "source": [
    "variance = squared_deviations_df.mean()\n",
    "\n",
    "print(\"\", variance)\n",
    "\n",
    "print(\"Volatility of the returns:\", np.sqrt(variance))\n",
    "\n"
   ]
  },
  {
   "cell_type": "code",
   "execution_count": 13,
   "metadata": {},
   "outputs": [
    {
     "name": "stdout",
     "output_type": "stream",
     "text": [
      "Ticker\n",
      "AAPL    0.217081\n",
      "GOOG    0.288377\n",
      "dtype: float64\n"
     ]
    }
   ],
   "source": [
    "'''\n",
    "## Calculations of annualized returns\n",
    "'''\n",
    "\n",
    "annualized_vol = returns_df.std() * np.sqrt(252)\n",
    "\n",
    "print(annualized_vol)"
   ]
  },
  {
   "cell_type": "code",
   "execution_count": 14,
   "metadata": {},
   "outputs": [
    {
     "name": "stdout",
     "output_type": "stream",
     "text": [
      "Aggregated Returns calculated pro-day basis Ticker\n",
      "AAPL    0.001270\n",
      "GOOG    0.001412\n",
      "dtype: float64\n"
     ]
    }
   ],
   "source": [
    "returns_per_day = (returns_df + 1).prod()**(1/returns_df.shape[0]) - 1\n",
    "\n",
    "print(\"Aggregated Returns calculated pro-day basis\", returns_per_day)\n",
    "\n"
   ]
  },
  {
   "cell_type": "code",
   "execution_count": 15,
   "metadata": {},
   "outputs": [
    {
     "name": "stdout",
     "output_type": "stream",
     "text": [
      "Ticker\n",
      "AAPL    0.376828\n",
      "GOOG    0.426862\n",
      "dtype: float64\n"
     ]
    }
   ],
   "source": [
    "annualized_return = (returns_per_day + 1)**252 - 1\n",
    "\n",
    "print(annualized_return)\n",
    "\n"
   ]
  },
  {
   "cell_type": "code",
   "execution_count": 17,
   "metadata": {},
   "outputs": [
    {
     "name": "stdout",
     "output_type": "stream",
     "text": [
      "Sharpe Ratio: Ticker\n",
      "AAPL    1.60\n",
      "GOOG    1.38\n",
      "dtype: float64\n"
     ]
    }
   ],
   "source": [
    "'''\n",
    "## Sharpe Ratio\n",
    "'''\n",
    "\n",
    "risk_free_rate = 0.03\n",
    "\n",
    "excess_return = annualized_return - risk_free_rate\n",
    "\n",
    "sharpe_ratio = excess_return / annualized_vol\n",
    "\n",
    "print(\"Sharpe Ratio:\", round(sharpe_ratio, 2))"
   ]
  }
 ],
 "metadata": {
  "kernelspec": {
   "display_name": "base",
   "language": "python",
   "name": "python3"
  },
  "language_info": {
   "codemirror_mode": {
    "name": "ipython",
    "version": 3
   },
   "file_extension": ".py",
   "mimetype": "text/x-python",
   "name": "python",
   "nbconvert_exporter": "python",
   "pygments_lexer": "ipython3",
   "version": "3.12.3"
  }
 },
 "nbformat": 4,
 "nbformat_minor": 2
}
